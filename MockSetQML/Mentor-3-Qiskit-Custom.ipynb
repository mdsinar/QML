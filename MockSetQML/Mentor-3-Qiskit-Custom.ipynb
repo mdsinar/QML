{
 "cells": [
  {
   "cell_type": "code",
   "execution_count": 103,
   "metadata": {},
   "outputs": [],
   "source": [
    "import matplotlib.pyplot as plt\n",
    "import numpy as np\n",
    "import pandas as pd\n",
    "from sklearn import  preprocessing\n",
    "from sklearn.feature_selection import mutual_info_classif\n",
    "from sklearn.ensemble import ExtraTreesClassifier\n",
    "from sklearn.model_selection import train_test_split\n",
    "import warnings\n",
    "warnings.filterwarnings('ignore')\n",
    "\n",
    "from qiskit import Aer, QuantumCircuit\n",
    "from qiskit.algorithms.optimizers import SPSA, COBYLA, GradientDescent\n",
    "from qiskit.circuit.library import TwoLocal, ZZFeatureMap, ZFeatureMap, PauliFeatureMap\n",
    "from qiskit.circuit import Parameter\n",
    "from qiskit.opflow import StateFn, Gradient, I, Z\n",
    "from qiskit.utils import QuantumInstance\n",
    "\n",
    "from qiskit_machine_learning.algorithms.classifiers import NeuralNetworkClassifier\n",
    "from qiskit_machine_learning.neural_networks import CircuitQNN, OpflowQNN\n",
    "from qiskit_machine_learning.utils.loss_functions import L2Loss, CrossEntropyLoss"
   ]
  },
  {
   "cell_type": "code",
   "execution_count": 104,
   "metadata": {},
   "outputs": [
    {
     "data": {
      "text/html": [
       "<div>\n",
       "<style scoped>\n",
       "    .dataframe tbody tr th:only-of-type {\n",
       "        vertical-align: middle;\n",
       "    }\n",
       "\n",
       "    .dataframe tbody tr th {\n",
       "        vertical-align: top;\n",
       "    }\n",
       "\n",
       "    .dataframe thead th {\n",
       "        text-align: right;\n",
       "    }\n",
       "</style>\n",
       "<table border=\"1\" class=\"dataframe\">\n",
       "  <thead>\n",
       "    <tr style=\"text-align: right;\">\n",
       "      <th></th>\n",
       "      <th>0</th>\n",
       "      <th>1</th>\n",
       "      <th>2</th>\n",
       "      <th>3</th>\n",
       "      <th>x</th>\n",
       "    </tr>\n",
       "  </thead>\n",
       "  <tbody>\n",
       "    <tr>\n",
       "      <th>0</th>\n",
       "      <td>2789.26</td>\n",
       "      <td>1000</td>\n",
       "      <td>10</td>\n",
       "      <td>20</td>\n",
       "      <td>0</td>\n",
       "    </tr>\n",
       "    <tr>\n",
       "      <th>1</th>\n",
       "      <td>4040.01</td>\n",
       "      <td>1000000</td>\n",
       "      <td>1</td>\n",
       "      <td>1</td>\n",
       "      <td>1</td>\n",
       "    </tr>\n",
       "    <tr>\n",
       "      <th>2</th>\n",
       "      <td>2931.20</td>\n",
       "      <td>10000</td>\n",
       "      <td>10000</td>\n",
       "      <td>40</td>\n",
       "      <td>1</td>\n",
       "    </tr>\n",
       "    <tr>\n",
       "      <th>3</th>\n",
       "      <td>3896.54</td>\n",
       "      <td>10000</td>\n",
       "      <td>100000</td>\n",
       "      <td>30</td>\n",
       "      <td>1</td>\n",
       "    </tr>\n",
       "    <tr>\n",
       "      <th>4</th>\n",
       "      <td>982.06</td>\n",
       "      <td>100</td>\n",
       "      <td>1000</td>\n",
       "      <td>75</td>\n",
       "      <td>0</td>\n",
       "    </tr>\n",
       "    <tr>\n",
       "      <th>5</th>\n",
       "      <td>1579.81</td>\n",
       "      <td>1</td>\n",
       "      <td>1000</td>\n",
       "      <td>90</td>\n",
       "      <td>0</td>\n",
       "    </tr>\n",
       "    <tr>\n",
       "      <th>6</th>\n",
       "      <td>3031.77</td>\n",
       "      <td>1000000</td>\n",
       "      <td>1000000</td>\n",
       "      <td>35</td>\n",
       "      <td>1</td>\n",
       "    </tr>\n",
       "    <tr>\n",
       "      <th>7</th>\n",
       "      <td>860.44</td>\n",
       "      <td>10</td>\n",
       "      <td>100000</td>\n",
       "      <td>60</td>\n",
       "      <td>0</td>\n",
       "    </tr>\n",
       "  </tbody>\n",
       "</table>\n",
       "</div>"
      ],
      "text/plain": [
       "         0        1        2   3  x\n",
       "0  2789.26     1000       10  20  0\n",
       "1  4040.01  1000000        1   1  1\n",
       "2  2931.20    10000    10000  40  1\n",
       "3  3896.54    10000   100000  30  1\n",
       "4   982.06      100     1000  75  0\n",
       "5  1579.81        1     1000  90  0\n",
       "6  3031.77  1000000  1000000  35  1\n",
       "7   860.44       10   100000  60  0"
      ]
     },
     "execution_count": 104,
     "metadata": {},
     "output_type": "execute_result"
    }
   ],
   "source": [
    "df = pd.read_csv('Datasets/Mentor/mock_train_set.csv')\n",
    "df.head(8)"
   ]
  },
  {
   "cell_type": "code",
   "execution_count": 105,
   "metadata": {},
   "outputs": [
    {
     "data": {
      "text/html": [
       "<div>\n",
       "<style scoped>\n",
       "    .dataframe tbody tr th:only-of-type {\n",
       "        vertical-align: middle;\n",
       "    }\n",
       "\n",
       "    .dataframe tbody tr th {\n",
       "        vertical-align: top;\n",
       "    }\n",
       "\n",
       "    .dataframe thead th {\n",
       "        text-align: right;\n",
       "    }\n",
       "</style>\n",
       "<table border=\"1\" class=\"dataframe\">\n",
       "  <thead>\n",
       "    <tr style=\"text-align: right;\">\n",
       "      <th></th>\n",
       "      <th>0</th>\n",
       "      <th>1</th>\n",
       "      <th>2</th>\n",
       "      <th>3</th>\n",
       "      <th>x</th>\n",
       "    </tr>\n",
       "  </thead>\n",
       "  <tbody>\n",
       "    <tr>\n",
       "      <th>0</th>\n",
       "      <td>2988.55</td>\n",
       "      <td>10000</td>\n",
       "      <td>10000</td>\n",
       "      <td>75</td>\n",
       "      <td>1</td>\n",
       "    </tr>\n",
       "    <tr>\n",
       "      <th>1</th>\n",
       "      <td>3413.80</td>\n",
       "      <td>1</td>\n",
       "      <td>100</td>\n",
       "      <td>90</td>\n",
       "      <td>0</td>\n",
       "    </tr>\n",
       "    <tr>\n",
       "      <th>2</th>\n",
       "      <td>3891.52</td>\n",
       "      <td>1</td>\n",
       "      <td>1</td>\n",
       "      <td>5</td>\n",
       "      <td>0</td>\n",
       "    </tr>\n",
       "    <tr>\n",
       "      <th>3</th>\n",
       "      <td>4514.99</td>\n",
       "      <td>10000</td>\n",
       "      <td>1000000</td>\n",
       "      <td>25</td>\n",
       "      <td>1</td>\n",
       "    </tr>\n",
       "    <tr>\n",
       "      <th>4</th>\n",
       "      <td>752.29</td>\n",
       "      <td>10</td>\n",
       "      <td>10</td>\n",
       "      <td>90</td>\n",
       "      <td>0</td>\n",
       "    </tr>\n",
       "    <tr>\n",
       "      <th>5</th>\n",
       "      <td>1404.13</td>\n",
       "      <td>10000</td>\n",
       "      <td>1000</td>\n",
       "      <td>5</td>\n",
       "      <td>1</td>\n",
       "    </tr>\n",
       "    <tr>\n",
       "      <th>6</th>\n",
       "      <td>3390.65</td>\n",
       "      <td>1000000</td>\n",
       "      <td>10000</td>\n",
       "      <td>5</td>\n",
       "      <td>1</td>\n",
       "    </tr>\n",
       "    <tr>\n",
       "      <th>7</th>\n",
       "      <td>2620.98</td>\n",
       "      <td>1</td>\n",
       "      <td>10</td>\n",
       "      <td>75</td>\n",
       "      <td>0</td>\n",
       "    </tr>\n",
       "  </tbody>\n",
       "</table>\n",
       "</div>"
      ],
      "text/plain": [
       "         0        1        2   3  x\n",
       "0  2988.55    10000    10000  75  1\n",
       "1  3413.80        1      100  90  0\n",
       "2  3891.52        1        1   5  0\n",
       "3  4514.99    10000  1000000  25  1\n",
       "4   752.29       10       10  90  0\n",
       "5  1404.13    10000     1000   5  1\n",
       "6  3390.65  1000000    10000   5  1\n",
       "7  2620.98        1       10  75  0"
      ]
     },
     "execution_count": 105,
     "metadata": {},
     "output_type": "execute_result"
    }
   ],
   "source": [
    "df_test = pd.read_csv('Datasets/Mentor/mock_test_set.csv')\n",
    "df_test.head(8)"
   ]
  },
  {
   "cell_type": "code",
   "execution_count": 106,
   "metadata": {},
   "outputs": [
    {
     "data": {
      "text/plain": [
       "['0', '1', '2', '3', 'x']"
      ]
     },
     "execution_count": 106,
     "metadata": {},
     "output_type": "execute_result"
    }
   ],
   "source": [
    "f_name_list = list(df)\n",
    "list(f_name_list)"
   ]
  },
  {
   "cell_type": "code",
   "execution_count": 107,
   "metadata": {},
   "outputs": [
    {
     "name": "stdout",
     "output_type": "stream",
     "text": [
      "Number of empty data in the set: \n"
     ]
    }
   ],
   "source": [
    "print('Number of empty data in the set: '), df.isnull().sum().sum()\n",
    "clean_data = df.dropna()"
   ]
  },
  {
   "cell_type": "code",
   "execution_count": 108,
   "metadata": {},
   "outputs": [
    {
     "data": {
      "text/plain": [
       "ExtraTreesClassifier()"
      ]
     },
     "execution_count": 108,
     "metadata": {},
     "output_type": "execute_result"
    }
   ],
   "source": [
    "x_org = clean_data.drop('x', axis=1)\n",
    "cat = clean_data.x\n",
    "\n",
    "rel = ExtraTreesClassifier()\n",
    "rel.fit(x_org, cat)"
   ]
  },
  {
   "cell_type": "code",
   "execution_count": 109,
   "metadata": {},
   "outputs": [
    {
     "name": "stdout",
     "output_type": "stream",
     "text": [
      "[0.13697209 0.48970159 0.27175781 0.10156851]\n"
     ]
    }
   ],
   "source": [
    "print(rel.feature_importances_)"
   ]
  },
  {
   "cell_type": "code",
   "execution_count": 110,
   "metadata": {},
   "outputs": [
    {
     "data": {
      "image/png": "[encoded data removed]",
      "text/plain": [
       "<Figure size 432x288 with 1 Axes>"
      ]
     },
     "metadata": {
      "needs_background": "light"
     },
     "output_type": "display_data"
    }
   ],
   "source": [
    "rank_f = pd.Series(rel.feature_importances_, index=x_org.columns)\n",
    "rank_f.nlargest(20).plot(kind='bar')\n",
    "plt.show()"
   ]
  },
  {
   "cell_type": "code",
   "execution_count": 111,
   "metadata": {},
   "outputs": [],
   "source": [
    "corr = clean_data.iloc[:,:-1].corr()\n",
    "classified = mutual_info_classif(x_org, cat)\n",
    "class_data = pd.Series(classified, index=x_org.columns)\n",
    "ordered_f = class_data.sort_values(ascending=False)"
   ]
  },
  {
   "cell_type": "code",
   "execution_count": 112,
   "metadata": {},
   "outputs": [
    {
     "data": {
      "text/plain": [
       "1    0.326274\n",
       "2    0.276113\n",
       "0    0.060894\n",
       "3    0.039336\n",
       "dtype: float64"
      ]
     },
     "execution_count": 112,
     "metadata": {},
     "output_type": "execute_result"
    }
   ],
   "source": [
    "ordered_f.head(10)"
   ]
  },
  {
   "cell_type": "code",
   "execution_count": 113,
   "metadata": {},
   "outputs": [],
   "source": [
    "test_ratio = 0.2\n",
    "seed = 1984\n",
    "selected_f = clean_data[['0','1','2','3','x']]\n",
    "selected_test = df_test[['0','1','2','3','x']]\n",
    "\n",
    "x_train = np.array(selected_f.drop('x', axis =1))\n",
    "y_train = np.array(selected_f.x)\n",
    "x = preprocessing.normalize(x_train, axis=0)\n",
    "\n",
    "x_test = np.array(selected_test.drop('x', axis =1))\n",
    "y_test = np.array(selected_test.x)\n",
    "x = preprocessing.normalize(x_test, axis=0)"
   ]
  },
  {
   "cell_type": "code",
   "execution_count": 114,
   "metadata": {},
   "outputs": [
    {
     "data": {
      "image/png": "[encoded data removed]",
      "text/plain": [
       "<Figure size 206.997x264.88 with 1 Axes>"
      ]
     },
     "execution_count": 114,
     "metadata": {},
     "output_type": "execute_result"
    }
   ],
   "source": [
    "feature_dim = x.shape[1]\n",
    "emb_layer = 1\n",
    "ent = 'linear'\n",
    "\n",
    "fmap = ZFeatureMap(feature_dimension=feature_dim, reps=emb_layer)#, entanglement=ent)\n",
    "fmap.decompose().draw('mpl', scale=1)"
   ]
  },
  {
   "cell_type": "code",
   "execution_count": 115,
   "metadata": {},
   "outputs": [
    {
     "data": {
      "image/png": "[encoded data removed]",
      "text/plain": [
       "<Figure size 206.997x264.88 with 1 Axes>"
      ]
     },
     "execution_count": 115,
     "metadata": {},
     "output_type": "execute_result"
    }
   ],
   "source": [
    "fmap.assign_parameters({k:v for (k,v) in zip(fmap.parameters, x_train[0])}).decompose().draw('mpl', scale=1)"
   ]
  },
  {
   "cell_type": "code",
   "execution_count": 116,
   "metadata": {},
   "outputs": [],
   "source": [
    "def ansatz_circ(feature_dim, layer, weights):\n",
    "    ansatz = QuantumCircuit(feature_dim)\n",
    "    for layer in range(layer):\n",
    "        for i in range(feature_dim):\n",
    "            ansatz.ry(weights[i], i)\n",
    "            #ansatz.rz(weights[i+4], i)\n",
    "        for i in range(feature_dim - 1):\n",
    "            ansatz.cx(i, i+1)\n",
    "        ansatz.cx(3,0)\n",
    "        ansatz.barrier()\n",
    "    return ansatz"
   ]
  },
  {
   "cell_type": "code",
   "execution_count": 117,
   "metadata": {},
   "outputs": [
    {
     "data": {
      "image/png": "[encoded data removed]",
      "text/plain": [
       "<Figure size 1170.2x264.88 with 1 Axes>"
      ]
     },
     "execution_count": 117,
     "metadata": {},
     "output_type": "execute_result"
    }
   ],
   "source": [
    "layer = 3\n",
    "np.random.seed(seed)\n",
    "nb_w = 4\n",
    "weights = np.random.random(nb_w)\n",
    "w_params = [Parameter(f'x{str(i)}') for i in range(nb_w)]\n",
    "\n",
    "ansatz = ansatz_circ(feature_dim, layer, w_params)\n",
    "ansatz.draw('mpl')"
   ]
  },
  {
   "cell_type": "code",
   "execution_count": 118,
   "metadata": {},
   "outputs": [
    {
     "data": {
      "image/png": "[encoded data removed]",
      "text/plain": [
       "<Figure size 1531.4x264.88 with 1 Axes>"
      ]
     },
     "execution_count": 118,
     "metadata": {},
     "output_type": "execute_result"
    }
   ],
   "source": [
    "ansatz.assign_parameters({k:v for (k,v) in zip(ansatz.parameters, weights)}).decompose().draw('mpl', scale=1)"
   ]
  },
  {
   "cell_type": "code",
   "execution_count": 119,
   "metadata": {},
   "outputs": [
    {
     "data": {
      "image/png": "[encoded data removed]",
      "text/plain": [
       "<Figure size 1350.8x264.88 with 1 Axes>"
      ]
     },
     "execution_count": 119,
     "metadata": {},
     "output_type": "execute_result"
    }
   ],
   "source": [
    "var_circuit = fmap.compose(ansatz)\n",
    "var_circuit.draw('mpl')"
   ]
  },
  {
   "cell_type": "code",
   "execution_count": 120,
   "metadata": {},
   "outputs": [],
   "source": [
    "def parity(x, num_classes):\n",
    "    return f\"{x:b}\".count(\"1\") % num_classes\n",
    "\n",
    "def one_qubit_binary(x):\n",
    "    return x % 2"
   ]
  },
  {
   "cell_type": "code",
   "execution_count": 121,
   "metadata": {},
   "outputs": [],
   "source": [
    "qasm_sim = Aer.get_backend('aer_simulator')\n",
    "qinst = QuantumInstance(qasm_sim, 2048, seed_simulator=seed)"
   ]
  },
  {
   "cell_type": "code",
   "execution_count": 122,
   "metadata": {},
   "outputs": [],
   "source": [
    "num_classes = 2\n",
    "qnn = CircuitQNN(circuit=var_circuit,\n",
    "                 input_params=fmap.parameters,  # if your embedding strategy is not a parametrized circuit \n",
    "                                                   # (e.g. amplitude encoding) you will have to do some extra work!\n",
    "                 weight_params=ansatz.parameters,  # if you train your embedding as well, the trainable\n",
    "                                                      # parameters of the embedding must be added\n",
    "                 interpret=one_qubit_binary,\n",
    "                 output_shape=num_classes,\n",
    "                 gradient=None,\n",
    "                 quantum_instance=qinst)"
   ]
  },
  {
   "cell_type": "code",
   "execution_count": 123,
   "metadata": {},
   "outputs": [
    {
     "name": "stdout",
     "output_type": "stream",
     "text": [
      "(1, 2)\n"
     ]
    },
    {
     "data": {
      "text/plain": [
       "array([[0.59521484, 0.40478516]])"
      ]
     },
     "execution_count": 123,
     "metadata": {},
     "output_type": "execute_result"
    }
   ],
   "source": [
    "output = qnn.forward(x_train[0], weights)\n",
    "print(output.shape)\n",
    "output"
   ]
  },
  {
   "cell_type": "code",
   "execution_count": 124,
   "metadata": {},
   "outputs": [
    {
     "data": {
      "text/plain": [
       "array([[[ 0.1105957 ,  0.36401367, -0.13916016, -0.08618164],\n",
       "        [-0.1105957 , -0.36401367,  0.13916016,  0.08618164]]])"
      ]
     },
     "execution_count": 124,
     "metadata": {},
     "output_type": "execute_result"
    }
   ],
   "source": [
    "_, update = qnn.backward(x_train[0], weights)\n",
    "update"
   ]
  },
  {
   "cell_type": "code",
   "execution_count": 125,
   "metadata": {},
   "outputs": [],
   "source": [
    "def get_one_hot_encoding(y):\n",
    "    unique_labels = np.unique(y, axis=0)\n",
    "    y_one_hot = [(np.eye(len(unique_labels))[np.where(unique_labels == y_i)]).reshape(len(unique_labels)) for y_i in y]\n",
    "\n",
    "    return np.array(y_one_hot)\n",
    "\n",
    "y_train_1h = get_one_hot_encoding(y_train)\n",
    "y_test_1h = get_one_hot_encoding(y_test)"
   ]
  },
  {
   "cell_type": "code",
   "execution_count": 126,
   "metadata": {},
   "outputs": [],
   "source": [
    "def callback(nfev, params, fval, stepsize, accepted=None):\n",
    "    \"\"\"\n",
    "    Can be used for SPSA and GradientDescent optimizers\n",
    "    nfev: the number of function evals\n",
    "    params: the current parameters\n",
    "    fval: the current function value\n",
    "    stepsize: size of the update step\n",
    "    accepted: whether the step was accepted (not used for )\n",
    "    \"\"\"\n",
    "    global loss_recorder\n",
    "\n",
    "    loss_recorder.append(fval)\n",
    "    print(f'{nfev} - {fval}')"
   ]
  },
  {
   "cell_type": "code",
   "execution_count": 127,
   "metadata": {},
   "outputs": [
    {
     "name": "stdout",
     "output_type": "stream",
     "text": [
      "3 - 269.65296118022104\n",
      "6 - 259.83291213696407\n",
      "9 - 256.31251669916145\n",
      "12 - 257.9761826363281\n",
      "15 - 256.47008265743773\n",
      "18 - 255.9477990466355\n",
      "21 - 255.5703110960844\n",
      "24 - 255.56450026892358\n",
      "27 - 255.50998541689034\n",
      "30 - 254.75940871502084\n",
      "33 - 254.90941401953458\n",
      "36 - 254.2008634815262\n",
      "39 - 253.65508422402397\n",
      "42 - 253.91497636806542\n",
      "45 - 253.8283195945379\n",
      "48 - 253.84067690046692\n",
      "51 - 253.6780114593221\n",
      "54 - 253.7324120778868\n",
      "57 - 253.4125127561424\n",
      "60 - 253.39654084303004\n",
      "63 - 253.38440237082827\n",
      "66 - 253.02264665980132\n",
      "69 - 253.13554262506744\n",
      "72 - 253.1874414222359\n",
      "75 - 253.1825374711126\n",
      "78 - 253.1921159327038\n",
      "81 - 253.127620359774\n",
      "84 - 253.28427205347998\n",
      "87 - 252.94912310558496\n",
      "90 - 253.009010773199\n",
      "93 - 253.00188283467003\n",
      "96 - 253.07850908413565\n",
      "99 - 253.0129590842531\n",
      "102 - 252.9903139748419\n",
      "105 - 253.1387863595465\n",
      "108 - 253.01697621681288\n",
      "111 - 253.03029261747807\n",
      "114 - 253.03191991523698\n",
      "117 - 252.98198397507215\n",
      "120 - 253.08289145198614\n",
      "123 - 252.90714281799256\n",
      "126 - 252.94301800562533\n",
      "129 - 252.92015200678844\n",
      "132 - 252.95071604141702\n",
      "135 - 252.80001684096152\n",
      "138 - 252.8402805587036\n",
      "141 - 252.89425322498562\n",
      "144 - 252.88828639296622\n",
      "147 - 252.91832888523174\n",
      "150 - 252.93146880475769\n"
     ]
    }
   ],
   "source": [
    "max_itr = 50\n",
    "spsa_opt = SPSA(maxiter=max_itr, callback=callback)\n",
    "loss_recorder = []\n",
    "np.random.seed(seed)\n",
    "initial_point = np.random.random((len(ansatz.parameters),))\n",
    "vqc = NeuralNetworkClassifier(neural_network=qnn,\n",
    "                              loss=CrossEntropyLoss(),\n",
    "                              one_hot=True,\n",
    "                              optimizer=spsa_opt,\n",
    "                              initial_point=initial_point)\n",
    "\n",
    "\n",
    "vqc = vqc.fit(x_train, y_train_1h)"
   ]
  },
  {
   "cell_type": "code",
   "execution_count": 128,
   "metadata": {},
   "outputs": [
    {
     "name": "stdout",
     "output_type": "stream",
     "text": [
      "Score on the train set 0.7633333333333333\n",
      "Score on the test set 0.8333333333333334\n"
     ]
    }
   ],
   "source": [
    "score_train_1 = vqc.score(x_train, y_train_1h)\n",
    "score_test_1 = vqc.score(x_test, y_test_1h)\n",
    "print(f'Score on the train set {score_train_1}')\n",
    "print(f'Score on the test set {score_test_1}')"
   ]
  },
  {
   "cell_type": "code",
   "execution_count": 129,
   "metadata": {},
   "outputs": [
    {
     "data": {
      "text/plain": [
       "[<matplotlib.lines.Line2D at 0x1a9e2f243a0>]"
      ]
     },
     "execution_count": 129,
     "metadata": {},
     "output_type": "execute_result"
    },
    {
     "data": {
      "image/png": "[encoded data removed]",
      "text/plain": [
       "<Figure size 432x288 with 1 Axes>"
      ]
     },
     "metadata": {
      "needs_background": "light"
     },
     "output_type": "display_data"
    }
   ],
   "source": [
    "plt.plot(loss_recorder)"
   ]
  },
  {
   "cell_type": "code",
   "execution_count": 130,
   "metadata": {},
   "outputs": [
    {
     "data": {
      "image/png": "[encoded data removed]",
      "text/plain": [
       "<Figure size 808.997x264.88 with 1 Axes>"
      ]
     },
     "execution_count": 130,
     "metadata": {},
     "output_type": "execute_result"
    }
   ],
   "source": [
    "layer = 2\n",
    "np.random.seed(seed)\n",
    "weights = np.random.random(nb_w)\n",
    "w_params = [Parameter(f'x{str(i)}') for i in range(nb_w)]\n",
    "\n",
    "ansatz = ansatz_circ(feature_dim, layer, w_params)\n",
    "ansatz.draw('mpl')"
   ]
  },
  {
   "cell_type": "code",
   "execution_count": 131,
   "metadata": {},
   "outputs": [
    {
     "data": {
      "image/png": "[encoded data removed]",
      "text/plain": [
       "<Figure size 1049.8x264.88 with 1 Axes>"
      ]
     },
     "execution_count": 131,
     "metadata": {},
     "output_type": "execute_result"
    }
   ],
   "source": [
    "ansatz.assign_parameters({k:v for (k,v) in zip(ansatz.parameters, weights)}).decompose().draw('mpl', scale=1)"
   ]
  },
  {
   "cell_type": "code",
   "execution_count": 132,
   "metadata": {},
   "outputs": [
    {
     "data": {
      "image/png": "[encoded data removed]",
      "text/plain": [
       "<Figure size 989.597x264.88 with 1 Axes>"
      ]
     },
     "execution_count": 132,
     "metadata": {},
     "output_type": "execute_result"
    }
   ],
   "source": [
    "var_circuit = fmap.compose(ansatz)\n",
    "var_circuit.draw('mpl')"
   ]
  },
  {
   "cell_type": "code",
   "execution_count": 133,
   "metadata": {},
   "outputs": [],
   "source": [
    "qnn = CircuitQNN(circuit=var_circuit,\n",
    "                 input_params=fmap.parameters,  # if your embedding strategy is not a parametrized circuit \n",
    "                                                   # (e.g. amplitude encoding) you will have to do some extra work!\n",
    "                 weight_params=ansatz.parameters,  # if you train your embedding as well, the trainable\n",
    "                                                      # parameters of the embedding must be added\n",
    "                 interpret=one_qubit_binary,\n",
    "                 output_shape=num_classes,\n",
    "                 gradient=None,\n",
    "                 quantum_instance=qinst)"
   ]
  },
  {
   "cell_type": "code",
   "execution_count": 134,
   "metadata": {},
   "outputs": [
    {
     "name": "stdout",
     "output_type": "stream",
     "text": [
      "(1, 2)\n"
     ]
    },
    {
     "data": {
      "text/plain": [
       "array([[0.51074219, 0.48925781]])"
      ]
     },
     "execution_count": 134,
     "metadata": {},
     "output_type": "execute_result"
    }
   ],
   "source": [
    "output = qnn.forward(x_train[0], weights)\n",
    "print(output.shape)\n",
    "output"
   ]
  },
  {
   "cell_type": "code",
   "execution_count": 135,
   "metadata": {},
   "outputs": [
    {
     "data": {
      "text/plain": [
       "array([[[-0.00317383, -0.02832031,  0.32568359,  0.00708008],\n",
       "        [ 0.00317383,  0.02832031, -0.32568359, -0.00708008]]])"
      ]
     },
     "execution_count": 135,
     "metadata": {},
     "output_type": "execute_result"
    }
   ],
   "source": [
    "_, update = qnn.backward(x_train[0], weights)\n",
    "update"
   ]
  },
  {
   "cell_type": "code",
   "execution_count": 136,
   "metadata": {},
   "outputs": [
    {
     "name": "stdout",
     "output_type": "stream",
     "text": [
      "3 - 318.0772614157695\n",
      "6 - 307.7187750407178\n",
      "9 - 321.8245238446194\n",
      "12 - 302.79260691299737\n",
      "15 - 306.9987405681927\n",
      "18 - 305.4577165682217\n",
      "21 - 306.4625158724744\n",
      "24 - 300.97321335935516\n",
      "27 - 300.70398141987107\n",
      "30 - 301.8022271340758\n",
      "33 - 300.8784992373628\n",
      "36 - 300.13232757801416\n",
      "39 - 299.66941698454355\n",
      "42 - 299.7675060421465\n",
      "45 - 299.87504465723055\n",
      "48 - 299.6870269679573\n",
      "51 - 299.22010831457163\n",
      "54 - 299.0516395582751\n",
      "57 - 299.17165355904126\n",
      "60 - 299.5820944022797\n",
      "63 - 299.63516898023045\n",
      "66 - 301.0383592689321\n",
      "69 - 299.94274131057824\n",
      "72 - 299.18491446339874\n",
      "75 - 299.39386767519363\n",
      "78 - 299.5951219808129\n",
      "81 - 299.41622034858676\n",
      "84 - 299.4085496687452\n",
      "87 - 299.0364003993483\n",
      "90 - 298.8308827754821\n",
      "93 - 298.9559469270936\n",
      "96 - 299.04512839413667\n",
      "99 - 298.3197007501768\n",
      "102 - 298.26634102478886\n",
      "105 - 298.27997218621476\n",
      "108 - 298.17298423592\n",
      "111 - 298.0670099556397\n",
      "114 - 298.20511295512114\n",
      "117 - 298.2368359983046\n",
      "120 - 298.211959691825\n",
      "123 - 298.21839589765966\n",
      "126 - 298.01046330510394\n",
      "129 - 298.11329319415233\n",
      "132 - 298.12231722158583\n",
      "135 - 298.45781300457145\n",
      "138 - 298.1709072907922\n",
      "141 - 298.23639667015726\n",
      "144 - 298.2308815385982\n",
      "147 - 298.19391508407205\n",
      "150 - 298.2873327362442\n"
     ]
    }
   ],
   "source": [
    "max_itr = 50\n",
    "spsa_opt = SPSA(maxiter=max_itr, callback=callback)\n",
    "loss_recorder = []\n",
    "np.random.seed(seed)\n",
    "initial_point = np.random.random((len(ansatz.parameters),))\n",
    "vqc = NeuralNetworkClassifier(neural_network=qnn,\n",
    "                              loss=CrossEntropyLoss(),\n",
    "                              one_hot=True,\n",
    "                              optimizer=spsa_opt,\n",
    "                              initial_point=initial_point)\n",
    "\n",
    "\n",
    "vqc = vqc.fit(x_train, y_train_1h)"
   ]
  },
  {
   "cell_type": "code",
   "execution_count": 137,
   "metadata": {},
   "outputs": [
    {
     "name": "stdout",
     "output_type": "stream",
     "text": [
      "Score on the train set 0.5366666666666666\n",
      "Score on the test set 0.5583333333333333\n"
     ]
    }
   ],
   "source": [
    "score_train_2 = vqc.score(x_train, y_train_1h)\n",
    "score_test_2 = vqc.score(x_test, y_test_1h)\n",
    "print(f'Score on the train set {score_train_2}')\n",
    "print(f'Score on the test set {score_test_2}')"
   ]
  },
  {
   "cell_type": "code",
   "execution_count": 138,
   "metadata": {},
   "outputs": [
    {
     "data": {
      "text/plain": [
       "[<matplotlib.lines.Line2D at 0x1a9e173d8e0>]"
      ]
     },
     "execution_count": 138,
     "metadata": {},
     "output_type": "execute_result"
    },
    {
     "data": {
      "image/png": "[encoded data removed]",
      "text/plain": [
       "<Figure size 432x288 with 1 Axes>"
      ]
     },
     "metadata": {
      "needs_background": "light"
     },
     "output_type": "display_data"
    }
   ],
   "source": [
    "plt.plot(loss_recorder)"
   ]
  },
  {
   "cell_type": "code",
   "execution_count": 139,
   "metadata": {},
   "outputs": [
    {
     "data": {
      "image/png": "[encoded data removed]",
      "text/plain": [
       "<Figure size 447.797x264.88 with 1 Axes>"
      ]
     },
     "execution_count": 139,
     "metadata": {},
     "output_type": "execute_result"
    }
   ],
   "source": [
    "layer = 1\n",
    "np.random.seed(seed)\n",
    "weights = np.random.random(nb_w)\n",
    "w_params = [Parameter(f'x{str(i)}') for i in range(nb_w)]\n",
    "\n",
    "ansatz = ansatz_circ(feature_dim, layer, w_params)\n",
    "ansatz.draw('mpl')"
   ]
  },
  {
   "cell_type": "code",
   "execution_count": 140,
   "metadata": {},
   "outputs": [
    {
     "data": {
      "image/png": "[encoded data removed]",
      "text/plain": [
       "<Figure size 568.197x264.88 with 1 Axes>"
      ]
     },
     "execution_count": 140,
     "metadata": {},
     "output_type": "execute_result"
    }
   ],
   "source": [
    "ansatz.assign_parameters({k:v for (k,v) in zip(ansatz.parameters, weights)}).decompose().draw('mpl', scale=1)"
   ]
  },
  {
   "cell_type": "code",
   "execution_count": 141,
   "metadata": {},
   "outputs": [
    {
     "data": {
      "image/png": "[encoded data removed]",
      "text/plain": [
       "<Figure size 628.397x264.88 with 1 Axes>"
      ]
     },
     "execution_count": 141,
     "metadata": {},
     "output_type": "execute_result"
    }
   ],
   "source": [
    "var_circuit = fmap.compose(ansatz)\n",
    "var_circuit.draw('mpl')"
   ]
  },
  {
   "cell_type": "code",
   "execution_count": 142,
   "metadata": {},
   "outputs": [],
   "source": [
    "qnn = CircuitQNN(circuit=var_circuit,\n",
    "                 input_params=fmap.parameters,  # if your embedding strategy is not a parametrized circuit \n",
    "                                                   # (e.g. amplitude encoding) you will have to do some extra work!\n",
    "                 weight_params=ansatz.parameters,  # if you train your embedding as well, the trainable\n",
    "                                                      # parameters of the embedding must be added\n",
    "                 interpret=one_qubit_binary,\n",
    "                 output_shape=num_classes,\n",
    "                 gradient=None,\n",
    "                 quantum_instance=qinst)"
   ]
  },
  {
   "cell_type": "code",
   "execution_count": 143,
   "metadata": {},
   "outputs": [
    {
     "name": "stdout",
     "output_type": "stream",
     "text": [
      "(1, 2)\n"
     ]
    },
    {
     "data": {
      "text/plain": [
       "array([[0.51025391, 0.48974609]])"
      ]
     },
     "execution_count": 143,
     "metadata": {},
     "output_type": "execute_result"
    }
   ],
   "source": [
    "output = qnn.forward(x_train[0], weights)\n",
    "print(output.shape)\n",
    "output"
   ]
  },
  {
   "cell_type": "code",
   "execution_count": 144,
   "metadata": {},
   "outputs": [
    {
     "data": {
      "text/plain": [
       "array([[[-0.01025391,  0.00073242, -0.00488281, -0.01367187],\n",
       "        [ 0.01025391, -0.00073242,  0.00488281,  0.01367187]]])"
      ]
     },
     "execution_count": 144,
     "metadata": {},
     "output_type": "execute_result"
    }
   ],
   "source": [
    "_, update = qnn.backward(x_train[0], weights)\n",
    "update"
   ]
  },
  {
   "cell_type": "code",
   "execution_count": 145,
   "metadata": {},
   "outputs": [
    {
     "name": "stdout",
     "output_type": "stream",
     "text": [
      "3 - 300.2799319278664\n",
      "6 - 300.7276195673214\n",
      "9 - 305.6682947930319\n",
      "12 - 294.0036068255883\n",
      "15 - 296.19337832259436\n",
      "18 - 295.05446372932784\n",
      "21 - 294.74279349369306\n",
      "24 - 293.8376455142024\n",
      "27 - 293.3036652515266\n",
      "30 - 293.55711867784294\n",
      "33 - 293.47239510019097\n",
      "36 - 293.626294945899\n",
      "39 - 293.8501188232938\n",
      "42 - 293.1573425934839\n",
      "45 - 293.47416451334874\n",
      "48 - 293.3527032555223\n",
      "51 - 293.3655483096448\n",
      "54 - 293.30055406024826\n",
      "57 - 293.2736687077646\n",
      "60 - 293.38845300066663\n",
      "63 - 293.65184966443564\n",
      "66 - 293.6406230294799\n",
      "69 - 293.252777878173\n",
      "72 - 293.4613115280348\n",
      "75 - 293.4755870962957\n",
      "78 - 293.4978510918148\n",
      "81 - 293.46302134526974\n",
      "84 - 293.3670609614402\n",
      "87 - 292.9947645590599\n",
      "90 - 293.44825094421356\n",
      "93 - 293.3407517440933\n",
      "96 - 293.4279287254115\n",
      "99 - 293.2477861361093\n",
      "102 - 293.18652720725294\n",
      "105 - 293.3640900863928\n",
      "108 - 293.59308985596886\n",
      "111 - 293.49731146067126\n",
      "114 - 293.3851823539185\n",
      "117 - 293.264555636297\n",
      "120 - 293.4582741226209\n",
      "123 - 293.4605973047056\n",
      "126 - 293.5321434152314\n",
      "129 - 293.5921361993274\n",
      "132 - 293.52403527066804\n",
      "135 - 293.49882888521546\n",
      "138 - 293.20111591556196\n",
      "141 - 293.43974312465184\n",
      "144 - 293.45124791977605\n",
      "147 - 293.4822291404374\n",
      "150 - 293.22519854480663\n"
     ]
    }
   ],
   "source": [
    "max_itr = 50\n",
    "spsa_opt = SPSA(maxiter=max_itr, callback=callback)\n",
    "loss_recorder = []\n",
    "np.random.seed(seed)\n",
    "initial_point = np.random.random((len(ansatz.parameters),))\n",
    "vqc = NeuralNetworkClassifier(neural_network=qnn,\n",
    "                              loss=CrossEntropyLoss(),\n",
    "                              one_hot=True,\n",
    "                              optimizer=spsa_opt,\n",
    "                              initial_point=initial_point)\n",
    "\n",
    "\n",
    "vqc = vqc.fit(x_train, y_train_1h)"
   ]
  },
  {
   "cell_type": "code",
   "execution_count": 146,
   "metadata": {},
   "outputs": [
    {
     "name": "stdout",
     "output_type": "stream",
     "text": [
      "Score on the train set 0.5866666666666667\n",
      "Score on the test set 0.44166666666666665\n"
     ]
    }
   ],
   "source": [
    "score_train_3 = vqc.score(x_train, y_train_1h)\n",
    "score_test_3 = vqc.score(x_test, y_test_1h)\n",
    "print(f'Score on the train set {score_train_3}')\n",
    "print(f'Score on the test set {score_test_3}')"
   ]
  },
  {
   "cell_type": "code",
   "execution_count": 147,
   "metadata": {},
   "outputs": [
    {
     "data": {
      "text/plain": [
       "[<matplotlib.lines.Line2D at 0x1a9de9ccc40>]"
      ]
     },
     "execution_count": 147,
     "metadata": {},
     "output_type": "execute_result"
    },
    {
     "data": {
      "image/png": "[encoded data removed]",
      "text/plain": [
       "<Figure size 432x288 with 1 Axes>"
      ]
     },
     "metadata": {
      "needs_background": "light"
     },
     "output_type": "display_data"
    }
   ],
   "source": [
    "plt.plot(loss_recorder)"
   ]
  }
 ],
 "metadata": {
  "interpreter": {
   "hash": "57f31b2200777642aea020fa74f53154a2e06f90d78a310d8c10a2b6a9068ce8"
  },
  "kernelspec": {
   "display_name": "Python 3.9.7 ('workshop-qml')",
   "language": "python",
   "name": "python3"
  },
  "language_info": {
   "codemirror_mode": {
    "name": "ipython",
    "version": 3
   },
   "file_extension": ".py",
   "mimetype": "text/x-python",
   "name": "python",
   "nbconvert_exporter": "python",
   "pygments_lexer": "ipython3",
   "version": "3.9.7"
  },
  "orig_nbformat": 4
 },
 "nbformat": 4,
 "nbformat_minor": 2
}
